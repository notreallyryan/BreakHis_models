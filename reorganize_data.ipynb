{
 "cells": [
  {
   "cell_type": "markdown",
   "id": "071811b8-7149-464e-b96e-370ea10f26d2",
   "metadata": {},
   "source": [
    "# Reorganizing BreakHis Data\n",
    "\n",
    "This is just a jupyter notebook used to quickly reorganize the BreakHis dataset into a usable format.  \n",
    "the b_path and bs_path (badly named) would have to be changed if implemented in a different file system. "
   ]
  },
  {
   "cell_type": "code",
   "execution_count": 1,
   "id": "fc0bb4af-7624-47cc-985e-67d8b003e6cf",
   "metadata": {},
   "outputs": [],
   "source": [
    "import os\n",
    "import shutil\n",
    "import re\n",
    "import splitfolders"
   ]
  },
  {
   "cell_type": "code",
   "execution_count": 2,
   "id": "764fc49d-85d0-49d9-aef4-2be6cca0c489",
   "metadata": {},
   "outputs": [],
   "source": [
    "#reorganizing breakhis\n",
    "#note that non png files were removed manually \n",
    "# magnifications -> 0/1\n",
    "b_path = \"C:/Users/Ryan/.cache/BreaKHis_v1\"\n",
    "mags = [\"40X\", \"100X\", \"200X\", \"400X\"]\n",
    "labels = [\"0\", \"1\"]\n",
    "\n",
    "for m in mags:\n",
    "    for l in labels:\n",
    "        os.makedirs(os.path.join(b_path, m, l))"
   ]
  },
  {
   "cell_type": "code",
   "execution_count": 4,
   "id": "2ae5c211-af53-45ba-a835-548008a22993",
   "metadata": {},
   "outputs": [],
   "source": [
    "#iterating over all BreakHis files and moving them appropriately \n",
    "b_path = \"C:/Users/Ryan/.cache/BreaKHis_v1\"\n",
    "mregex = r\"(?<=-)\\d{2,3}(?=-)\" \n",
    "lref = {\"B\" : \"0\", \"M\" : \"1\"}\n",
    "\n",
    "for subdir, dirs, files in os.walk(os.path.join(b_path, \"histology_slides\")):\n",
    "    for file in files:\n",
    "        magnification = re.search(mregex, file[-14:]).group() + \"X\"\n",
    "        label = lref[file[4]]\n",
    "        oldpath = os.path.join(subdir, file)\n",
    "        newpath = os.path.join(b_path, magnification, label, file) \n",
    "        shutil.move(oldpath, newpath)\n",
    "\n",
    "shutil.rmtree(os.path.join(b_path, \"histology_slides\"))"
   ]
  },
  {
   "cell_type": "code",
   "execution_count": null,
   "id": "1d1825a2-e32b-4993-9701-371cebad392c",
   "metadata": {},
   "outputs": [],
   "source": [
    "#splitting the BreakHis data\n",
    "b_path = \"C:/Users/Ryan/.cache/BreaKHis_v1\"\n",
    "bs_path = \"C:/Users/Ryan/.cache/BreaKHis_split\"\n",
    "mags = [\"40X\", \"100X\", \"200X\", \"400X\"]\n",
    "seed = 2048\n",
    "\n",
    "for m in mags:\n",
    "    splitfolders.ratio(os.path.join(b_path, m), output=os.path.join(bs_path, m),seed=seed, ratio=(.8, .2), group_prefix=None, move=True)\n",
    "    shutil.rmtree(b_path)"
   ]
  },
  {
   "cell_type": "code",
   "execution_count": 12,
   "id": "7c1e8e8c-3abd-438d-bfe3-1c5b0788b4c0",
   "metadata": {},
   "outputs": [],
   "source": [
    "#making consolidated BreakHis training folder\n",
    "b_path = \"C:/Users/Ryan/.cache/BreaKHis_split\"\n",
    "for l in [\"0\", \"1\"]:\n",
    "    os.makedirs(os.path.join(b_path, \"train\", l))"
   ]
  },
  {
   "cell_type": "code",
   "execution_count": 22,
   "id": "d833e1de-fb63-4eac-ba1c-278bdcb8d233",
   "metadata": {},
   "outputs": [],
   "source": [
    "#moving all training images to BreakHis consolidated folder\n",
    "b_path = \"C:/Users/Ryan/.cache/BreaKHis_split\"\n",
    "\n",
    "for m in [\"40X\", \"100X\", \"200X\", \"400X\"]:\n",
    "    for l in [\"0\", \"1\"]:\n",
    "        images = os.listdir(os.path.join(b_path, m, \"train\", l))\n",
    "        for i in images:\n",
    "            oldpath = os.path.join(b_path, m, \"train\", l, i)\n",
    "            newpath = os.path.join(b_path, \"train\", l, i)\n",
    "            shutil.move(oldpath, newpath)"
   ]
  },
  {
   "cell_type": "code",
   "execution_count": null,
   "id": "5fea294a-c45d-4f1b-a719-d703d926f670",
   "metadata": {},
   "outputs": [],
   "source": [
    "#creating the BreakHis validation set\n",
    "bs_path = \"C:/Users/Ryan/.cache/BreaKHis_split\"\n",
    "mags = [\"40X\", \"100X\", \"200X\", \"400X\"]\n",
    "\n",
    "for m in mags:\n",
    "    oldpath = os.path.join(bs_path, m, \"val\")\n",
    "    newpath = os.path.join(bs_path, \"val\", m)\n",
    "    shutil.copytree(oldpath, newpath)\n",
    "    shutil.rmtree(os.path.join(bs_path, m))"
   ]
  },
  {
   "cell_type": "code",
   "execution_count": null,
   "id": "998bccbf-f754-4efb-b5e4-55add4bacb7b",
   "metadata": {},
   "outputs": [],
   "source": []
  }
 ],
 "metadata": {
  "kernelspec": {
   "display_name": "pytorch",
   "language": "python",
   "name": "pytorch"
  },
  "language_info": {
   "codemirror_mode": {
    "name": "ipython",
    "version": 3
   },
   "file_extension": ".py",
   "mimetype": "text/x-python",
   "name": "python",
   "nbconvert_exporter": "python",
   "pygments_lexer": "ipython3",
   "version": "3.12.4"
  }
 },
 "nbformat": 4,
 "nbformat_minor": 5
}
